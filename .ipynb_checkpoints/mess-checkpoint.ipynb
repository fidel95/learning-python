{
 "cells": [
  {
   "cell_type": "code",
   "execution_count": 10,
   "metadata": {},
   "outputs": [
    {
     "name": "stdout",
     "output_type": "stream",
     "text": [
      "Hi, Welcome to my first game!\n",
      "What is your name ? fidel\n",
      "what is your age? 25\n",
      "Hello  fidel  you are  25  years old.\n",
      "You are old enough to pay this game!\n"
     ]
    }
   ],
   "source": [
    "print(\"Hi, Welcome to my first game!\")\n",
    "\n",
    "name = input(\"What is your name ? \")\n",
    "age = int(input(\"what is your age? \"))\n",
    "\n",
    "print(\"Hello \", name, \" you are \", age , \" years old.\")\n",
    "\n",
    "\n",
    "if age >= 18:\n",
    "    print(\"You are old enough to play this game!\")\n",
    "else:\n",
    "    print(\"You are not old enough to play this game!\")\n",
    "\n",
    "\n",
    "\n",
    "\n",
    "\n"
   ]
  },
  {
   "cell_type": "code",
   "execution_count": null,
   "metadata": {},
   "outputs": [],
   "source": []
  }
 ],
 "metadata": {
  "kernelspec": {
   "display_name": "Python 3",
   "language": "python",
   "name": "python3"
  },
  "language_info": {
   "codemirror_mode": {
    "name": "ipython",
    "version": 3
   },
   "file_extension": ".py",
   "mimetype": "text/x-python",
   "name": "python",
   "nbconvert_exporter": "python",
   "pygments_lexer": "ipython3",
   "version": "3.8.4"
  }
 },
 "nbformat": 4,
 "nbformat_minor": 4
}
